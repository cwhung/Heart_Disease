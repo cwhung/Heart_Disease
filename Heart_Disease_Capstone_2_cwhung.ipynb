{
 "cells": [
  {
   "cell_type": "markdown",
   "metadata": {
    "toc": true
   },
   "source": [
    "<h1>Table of Contents<span class=\"tocSkip\"></span></h1>\n",
    "<div class=\"toc\"><ul class=\"toc-item\"><li><span><a href=\"#Introduction\" data-toc-modified-id=\"Introduction-1\"><span class=\"toc-item-num\">1&nbsp;&nbsp;</span>Introduction</a></span><ul class=\"toc-item\"><li><span><a href=\"#Data-Set-Information\" data-toc-modified-id=\"Data-Set-Information-1.1\"><span class=\"toc-item-num\">1.1&nbsp;&nbsp;</span>Data Set Information</a></span></li><li><span><a href=\"#What-are-the-high-risk-factors-for-heart-disease?\" data-toc-modified-id=\"What-are-the-high-risk-factors-for-heart-disease?-1.2\"><span class=\"toc-item-num\">1.2&nbsp;&nbsp;</span>What are the high risk factors for heart disease?</a></span><ul class=\"toc-item\"><li><span><a href=\"#What-does-'risk-factor'-mean?\" data-toc-modified-id=\"What-does-'risk-factor'-mean?-1.2.1\"><span class=\"toc-item-num\">1.2.1&nbsp;&nbsp;</span>What does 'risk factor' mean?</a></span></li></ul></li></ul></li><li><span><a href=\"#Data-Analysis\" data-toc-modified-id=\"Data-Analysis-2\"><span class=\"toc-item-num\">2&nbsp;&nbsp;</span>Data Analysis</a></span><ul class=\"toc-item\"><li><span><a href=\"#Descriptive-Statistics\" data-toc-modified-id=\"Descriptive-Statistics-2.1\"><span class=\"toc-item-num\">2.1&nbsp;&nbsp;</span>Descriptive Statistics</a></span></li><li><span><a href=\"#Data-Visualization\" data-toc-modified-id=\"Data-Visualization-2.2\"><span class=\"toc-item-num\">2.2&nbsp;&nbsp;</span>Data Visualization</a></span><ul class=\"toc-item\"><li><span><a href=\"#Data-visualization-on-descriptive-statistics\" data-toc-modified-id=\"Data-visualization-on-descriptive-statistics-2.2.1\"><span class=\"toc-item-num\">2.2.1&nbsp;&nbsp;</span>Data visualization on descriptive statistics</a></span></li><li><span><a href=\"#Data-visualization-for-numberical-variables\" data-toc-modified-id=\"Data-visualization-for-numberical-variables-2.2.2\"><span class=\"toc-item-num\">2.2.2&nbsp;&nbsp;</span>Data visualization for numberical variables</a></span><ul class=\"toc-item\"><li><span><a href=\"#Histogram-and-bar-chart\" data-toc-modified-id=\"Histogram-and-bar-chart-2.2.2.1\"><span class=\"toc-item-num\">2.2.2.1&nbsp;&nbsp;</span>Histogram and bar chart</a></span></li><li><span><a href=\"#Box-plot-for-numerical-variables-for-patients-with/without-disease\" data-toc-modified-id=\"Box-plot-for-numerical-variables-for-patients-with/without-disease-2.2.2.2\"><span class=\"toc-item-num\">2.2.2.2&nbsp;&nbsp;</span>Box plot for numerical variables for patients with/without disease</a></span></li><li><span><a href=\"#Linear-Correlation-for-numerical-variables\" data-toc-modified-id=\"Linear-Correlation-for-numerical-variables-2.2.2.3\"><span class=\"toc-item-num\">2.2.2.3&nbsp;&nbsp;</span>Linear Correlation for numerical variables</a></span></li><li><span><a href=\"#Heatmap-to-visualize-the-correlation-coefficients.\" data-toc-modified-id=\"Heatmap-to-visualize-the-correlation-coefficients.-2.2.2.4\"><span class=\"toc-item-num\">2.2.2.4&nbsp;&nbsp;</span>Heatmap to visualize the correlation coefficients.</a></span></li><li><span><a href=\"#Swarm-plot-and-scatterplot-to-visualize-the-numerical-variables\" data-toc-modified-id=\"Swarm-plot-and-scatterplot-to-visualize-the-numerical-variables-2.2.2.5\"><span class=\"toc-item-num\">2.2.2.5&nbsp;&nbsp;</span>Swarm plot and scatterplot to visualize the numerical variables</a></span></li></ul></li><li><span><a href=\"#Data-visualization-for-categorical-variables\" data-toc-modified-id=\"Data-visualization-for-categorical-variables-2.2.3\"><span class=\"toc-item-num\">2.2.3&nbsp;&nbsp;</span>Data visualization for categorical variables</a></span></li></ul></li><li><span><a href=\"#A/B-Testing-on-categorical-variables:-elderly,-high_chol,-and-sex\" data-toc-modified-id=\"A/B-Testing-on-categorical-variables:-elderly,-high_chol,-and-sex-2.3\"><span class=\"toc-item-num\">2.3&nbsp;&nbsp;</span>A/B Testing on categorical variables: elderly, high_chol, and sex</a></span><ul class=\"toc-item\"><li><span><a href=\"#A/B-Testing-on-elderly-and-target\" data-toc-modified-id=\"A/B-Testing-on-elderly-and-target-2.3.1\"><span class=\"toc-item-num\">2.3.1&nbsp;&nbsp;</span>A/B Testing on elderly and target</a></span></li><li><span><a href=\"#A/B-Testing-on-high_chol-and-target\" data-toc-modified-id=\"A/B-Testing-on-high_chol-and-target-2.3.2\"><span class=\"toc-item-num\">2.3.2&nbsp;&nbsp;</span>A/B Testing on high_chol and target</a></span></li><li><span><a href=\"#A/B-testing-on-sex-and-target\" data-toc-modified-id=\"A/B-testing-on-sex-and-target-2.3.3\"><span class=\"toc-item-num\">2.3.3&nbsp;&nbsp;</span>A/B testing on sex and target</a></span></li></ul></li><li><span><a href=\"#Approaches-to-oversample-the-minority-group\" data-toc-modified-id=\"Approaches-to-oversample-the-minority-group-2.4\"><span class=\"toc-item-num\">2.4&nbsp;&nbsp;</span>Approaches to oversample the minority group</a></span><ul class=\"toc-item\"><li><span><a href=\"#Approach-I:-Resampling-using-Sklearn\" data-toc-modified-id=\"Approach-I:-Resampling-using-Sklearn-2.4.1\"><span class=\"toc-item-num\">2.4.1&nbsp;&nbsp;</span>Approach I: Resampling using Sklearn</a></span></li><li><span><a href=\"#Approach-II:-Resampling-using-SMOTE\" data-toc-modified-id=\"Approach-II:-Resampling-using-SMOTE-2.4.2\"><span class=\"toc-item-num\">2.4.2&nbsp;&nbsp;</span>Approach II: Resampling using SMOTE</a></span></li></ul></li><li><span><a href=\"#A/B-Testing-on-'sex-vs-target'-in-elder-people\" data-toc-modified-id=\"A/B-Testing-on-'sex-vs-target'-in-elder-people-2.5\"><span class=\"toc-item-num\">2.5&nbsp;&nbsp;</span>A/B Testing on 'sex vs target' in elder people</a></span></li><li><span><a href=\"#Logistic-Regression\" data-toc-modified-id=\"Logistic-Regression-2.6\"><span class=\"toc-item-num\">2.6&nbsp;&nbsp;</span>Logistic Regression</a></span></li></ul></li><li><span><a href=\"#Conclusion\" data-toc-modified-id=\"Conclusion-3\"><span class=\"toc-item-num\">3&nbsp;&nbsp;</span>Conclusion</a></span></li></ul></div>"
   ]
  },
  {
   "cell_type": "markdown",
   "metadata": {},
   "source": [
    "# Introduction\n",
    "\n",
    "## Data Set Information\n",
    "\n",
    "The dataset is from https://www.kaggle.com/ronitf/heart-disease-uci.  \n",
    "\n",
    "Physiological information from patients who participated a heart diease study in 4 medical institutes.  This database originally contains 76 attributes, but all published experiments refer to using a subset of **14** of them. In particular, the Cleveland database is the only one that has been used by ML researchers to this date.\n",
    "\n",
    "##### Column information:\n",
    "* Age (age in years)\n",
    "* Sex (1 = male; 0 = female)\n",
    "* CP (chest pain type, Value 1: typical angina -- Value 2: atypical angina -- Value 3: non-anginal pain -- Value 4: asymptomatic )\n",
    "* TRESTBPS (resting blood pressure (in mm Hg on admission to the hospital))\n",
    "* CHOL (serum cholestoral in mg/dl)\n",
    "* FBS (fasting blood sugar > 120 mg/dl) (1 = true; 0 = false)\n",
    "* RESTECG (resting electrocardiographic results, 2 = hyp; 0 = normal)\n",
    "* THALACH (maximum heart rate achieved)\n",
    "* EXANG (exercise induced angina (1 = yes; 0 = no))\n",
    "* OLDPEAK (ST depression induced by exercise relative to rest)\n",
    "* SLOPE (the slope of the peak exercise ST segment, -- Value 1: upsloping -- Value 2: flat -- Value 3: downsloping)\n",
    "* CA (number of major vessels (0-3) colored by flourosopy)\n",
    "* THAL (3 = normal; 6 = fixed defect; 7 = reversible defect)\n",
    "* TARGET (1 or 0, diagnosis of heart disease (angiographic disease status) -- Value 0: < 50% diameter narrowing -- Value 1: > 50% diameter narrowing).  Target= 0 : No Disease, Target > 0 : Disease\n",
    "\n",
    "Among the 14 columns, 'target' is the goal as the outcome of model.  The 6 numerical variables include age, trestbps, chol, thalach, oldpeak, and ca, whereas the 7 categorical variables are sex, cp, fbs, restecg, exang, slope, and thal.  "
   ]
  },
  {
   "cell_type": "code",
   "execution_count": 1,
   "metadata": {
    "scrolled": true
   },
   "outputs": [
    {
     "data": {
      "text/html": [
       "<div>\n",
       "<style scoped>\n",
       "    .dataframe tbody tr th:only-of-type {\n",
       "        vertical-align: middle;\n",
       "    }\n",
       "\n",
       "    .dataframe tbody tr th {\n",
       "        vertical-align: top;\n",
       "    }\n",
       "\n",
       "    .dataframe thead th {\n",
       "        text-align: right;\n",
       "    }\n",
       "</style>\n",
       "<table border=\"1\" class=\"dataframe\">\n",
       "  <thead>\n",
       "    <tr style=\"text-align: right;\">\n",
       "      <th></th>\n",
       "      <th>age</th>\n",
       "      <th>sex</th>\n",
       "      <th>cp</th>\n",
       "      <th>trestbps</th>\n",
       "      <th>chol</th>\n",
       "      <th>fbs</th>\n",
       "      <th>restecg</th>\n",
       "      <th>thalach</th>\n",
       "      <th>exang</th>\n",
       "      <th>oldpeak</th>\n",
       "      <th>slope</th>\n",
       "      <th>ca</th>\n",
       "      <th>thal</th>\n",
       "      <th>target</th>\n",
       "    </tr>\n",
       "  </thead>\n",
       "  <tbody>\n",
       "    <tr>\n",
       "      <th>0</th>\n",
       "      <td>63</td>\n",
       "      <td>1</td>\n",
       "      <td>1</td>\n",
       "      <td>145</td>\n",
       "      <td>233</td>\n",
       "      <td>1</td>\n",
       "      <td>2</td>\n",
       "      <td>150</td>\n",
       "      <td>0</td>\n",
       "      <td>2.3</td>\n",
       "      <td>3</td>\n",
       "      <td>0.0</td>\n",
       "      <td>6.0</td>\n",
       "      <td>0</td>\n",
       "    </tr>\n",
       "    <tr>\n",
       "      <th>1</th>\n",
       "      <td>67</td>\n",
       "      <td>1</td>\n",
       "      <td>4</td>\n",
       "      <td>160</td>\n",
       "      <td>286</td>\n",
       "      <td>0</td>\n",
       "      <td>2</td>\n",
       "      <td>108</td>\n",
       "      <td>1</td>\n",
       "      <td>1.5</td>\n",
       "      <td>2</td>\n",
       "      <td>3.0</td>\n",
       "      <td>3.0</td>\n",
       "      <td>2</td>\n",
       "    </tr>\n",
       "    <tr>\n",
       "      <th>2</th>\n",
       "      <td>67</td>\n",
       "      <td>1</td>\n",
       "      <td>4</td>\n",
       "      <td>120</td>\n",
       "      <td>229</td>\n",
       "      <td>0</td>\n",
       "      <td>2</td>\n",
       "      <td>129</td>\n",
       "      <td>1</td>\n",
       "      <td>2.6</td>\n",
       "      <td>2</td>\n",
       "      <td>2.0</td>\n",
       "      <td>7.0</td>\n",
       "      <td>1</td>\n",
       "    </tr>\n",
       "    <tr>\n",
       "      <th>3</th>\n",
       "      <td>37</td>\n",
       "      <td>1</td>\n",
       "      <td>3</td>\n",
       "      <td>130</td>\n",
       "      <td>250</td>\n",
       "      <td>0</td>\n",
       "      <td>0</td>\n",
       "      <td>187</td>\n",
       "      <td>0</td>\n",
       "      <td>3.5</td>\n",
       "      <td>3</td>\n",
       "      <td>0.0</td>\n",
       "      <td>3.0</td>\n",
       "      <td>0</td>\n",
       "    </tr>\n",
       "    <tr>\n",
       "      <th>4</th>\n",
       "      <td>41</td>\n",
       "      <td>0</td>\n",
       "      <td>2</td>\n",
       "      <td>130</td>\n",
       "      <td>204</td>\n",
       "      <td>0</td>\n",
       "      <td>2</td>\n",
       "      <td>172</td>\n",
       "      <td>0</td>\n",
       "      <td>1.4</td>\n",
       "      <td>1</td>\n",
       "      <td>0.0</td>\n",
       "      <td>3.0</td>\n",
       "      <td>0</td>\n",
       "    </tr>\n",
       "  </tbody>\n",
       "</table>\n",
       "</div>"
      ],
      "text/plain": [
       "   age  sex  cp  trestbps  chol  fbs  restecg  thalach  exang  oldpeak  slope  \\\n",
       "0   63    1   1       145   233    1        2      150      0      2.3      3   \n",
       "1   67    1   4       160   286    0        2      108      1      1.5      2   \n",
       "2   67    1   4       120   229    0        2      129      1      2.6      2   \n",
       "3   37    1   3       130   250    0        0      187      0      3.5      3   \n",
       "4   41    0   2       130   204    0        2      172      0      1.4      1   \n",
       "\n",
       "    ca  thal  target  \n",
       "0  0.0   6.0       0  \n",
       "1  3.0   3.0       2  \n",
       "2  2.0   7.0       1  \n",
       "3  0.0   3.0       0  \n",
       "4  0.0   3.0       0  "
      ]
     },
     "metadata": {},
     "output_type": "display_data"
    }
   ],
   "source": [
    "import pandas as pd\n",
    "import numpy as np\n",
    "import matplotlib.pyplot as plt\n",
    "import urllib.request\n",
    "import seaborn as sns\n",
    "import scipy.stats as stats\n",
    "import statsmodels.api as sm\n",
    "import statsmodels.stats\n",
    "\n",
    "from statsmodels.stats.proportion import proportions_ztest\n",
    "from imblearn.over_sampling import SMOTENC\n",
    "%matplotlib inline\n",
    "\n",
    "#input dataset\n",
    "df = pd.read_csv('processed.cleveland.csv', na_values=['?'])\n",
    "\n",
    "display(df.head(5))\n"
   ]
  },
  {
   "cell_type": "code",
   "execution_count": 2,
   "metadata": {
    "code_folding": []
   },
   "outputs": [
    {
     "name": "stdout",
     "output_type": "stream",
     "text": [
      "<class 'pandas.core.frame.DataFrame'>\n",
      "RangeIndex: 303 entries, 0 to 302\n",
      "Data columns (total 14 columns):\n",
      "age         303 non-null int64\n",
      "sex         303 non-null int64\n",
      "cp          303 non-null int64\n",
      "trestbps    303 non-null int64\n",
      "chol        303 non-null int64\n",
      "fbs         303 non-null int64\n",
      "restecg     303 non-null int64\n",
      "thalach     303 non-null int64\n",
      "exang       303 non-null int64\n",
      "oldpeak     303 non-null float64\n",
      "slope       303 non-null int64\n",
      "ca          299 non-null float64\n",
      "thal        301 non-null float64\n",
      "target      303 non-null int64\n",
      "dtypes: float64(3), int64(11)\n",
      "memory usage: 33.2 KB\n"
     ]
    }
   ],
   "source": [
    "# show data information\n",
    "df.info()"
   ]
  },
  {
   "cell_type": "markdown",
   "metadata": {},
   "source": [
    "We notice that some cells are missing and originally labeled as '?'.  To organize the data, the following steps are performed:\n",
    "* Type for categorical columns should be 'str' instead of 'int64'. \n",
    "* In 'target' column, any value greater than \"0\" should be labeled as \"1\" (to fit with data description)\n",
    "* Missing data should be replaced with mode.  "
   ]
  },
  {
   "cell_type": "code",
   "execution_count": 3,
   "metadata": {
    "code_folding": []
   },
   "outputs": [
    {
     "name": "stdout",
     "output_type": "stream",
     "text": [
      "<class 'pandas.core.frame.DataFrame'>\n",
      "RangeIndex: 303 entries, 0 to 302\n",
      "Data columns (total 14 columns):\n",
      "age         303 non-null int64\n",
      "sex         303 non-null int64\n",
      "cp          303 non-null int64\n",
      "trestbps    303 non-null int64\n",
      "chol        303 non-null int64\n",
      "fbs         303 non-null int64\n",
      "restecg     303 non-null int64\n",
      "thalach     303 non-null int64\n",
      "exang       303 non-null int64\n",
      "oldpeak     303 non-null float64\n",
      "slope       303 non-null int64\n",
      "ca          303 non-null float64\n",
      "thal        303 non-null float64\n",
      "target      303 non-null int64\n",
      "dtypes: float64(3), int64(11)\n",
      "memory usage: 33.2 KB\n"
     ]
    }
   ],
   "source": [
    "# change the target notation\n",
    "df['target']=np.where(df['target'] >= 1, 1, df['target'])\n",
    "df.ca.fillna(df.ca.mode()[0], inplace= True)\n",
    "df.thal.fillna(df.thal.mode()[0], inplace = True)\n",
    "df.info()"
   ]
  },
  {
   "cell_type": "code",
   "execution_count": 4,
   "metadata": {
    "code_folding": []
   },
   "outputs": [
    {
     "name": "stdout",
     "output_type": "stream",
     "text": [
      "<class 'pandas.core.frame.DataFrame'>\n",
      "RangeIndex: 303 entries, 0 to 302\n",
      "Data columns (total 14 columns):\n",
      "age         303 non-null int64\n",
      "sex         303 non-null category\n",
      "cp          303 non-null category\n",
      "trestbps    303 non-null int64\n",
      "chol        303 non-null int64\n",
      "fbs         303 non-null category\n",
      "restecg     303 non-null category\n",
      "thalach     303 non-null int64\n",
      "exang       303 non-null category\n",
      "oldpeak     303 non-null float64\n",
      "slope       303 non-null category\n",
      "ca          303 non-null int64\n",
      "thal        303 non-null category\n",
      "target      303 non-null int64\n",
      "dtypes: category(7), float64(1), int64(6)\n",
      "memory usage: 19.5 KB\n"
     ]
    }
   ],
   "source": [
    "# change the type for categorical variables\n",
    "df.sex = df.sex.astype('category')\n",
    "df.cp = df.cp.astype('category')\n",
    "df.fbs = df.fbs.astype('category')\n",
    "df.restecg = df.restecg.astype('category')\n",
    "df.exang = df.exang.astype('category')\n",
    "df.slope = df.slope.astype('category')\n",
    "df.thal = df.thal.astype('category')\n",
    "df.ca = df.ca.astype('int64')\n",
    "df.info()"
   ]
  },
  {
   "cell_type": "code",
   "execution_count": 5,
   "metadata": {
    "code_folding": [],
    "scrolled": true
   },
   "outputs": [
    {
     "data": {
      "text/plain": [
       "age         0\n",
       "sex         0\n",
       "cp          0\n",
       "trestbps    0\n",
       "chol        0\n",
       "fbs         0\n",
       "restecg     0\n",
       "thalach     0\n",
       "exang       0\n",
       "oldpeak     0\n",
       "slope       0\n",
       "ca          0\n",
       "thal        0\n",
       "target      0\n",
       "dtype: int64"
      ]
     },
     "execution_count": 5,
     "metadata": {},
     "output_type": "execute_result"
    }
   ],
   "source": [
    "# check if any missing data\n",
    "# '0' means no missing \n",
    "df.isna().sum()"
   ]
  },
  {
   "cell_type": "markdown",
   "metadata": {},
   "source": [
    "To check the integrity of the data, 'isna' is used here.  All zeros means there is no missing data. "
   ]
  },
  {
   "cell_type": "markdown",
   "metadata": {},
   "source": [
    "## What are the high risk factors for heart disease?\n",
    "The project focuses on the three factors, sex, age, and cholesterol and their association to heart diseases while other factors are also presented in graphs.  The analysis includes data visualization with pyplot and seaborn, and A/B testing with z-test.  Our questions are: what are the high risk factors for heart disease?  Are men more likely to develop heart disease than women?  Are people with high cholesterol in their blood more likely to have heart disease than people with low cholesterol?  Are people more likely to have heart disease when they get old?\n",
    "\n",
    "**In order to answer those questions, a model for multinomial logistic regressions is needed.  However, in this capstone 2 project, the focus is NOT the logistic regression model.  Instead, the following analysis is to find out if the heart disease rate is significantly higher in one group than the other group.** The method of A/B testing can be applied to other binary experimental setups - such as no treatment versus treatment, before versus after, with versus without, etc.  In particular, the 'experimental setups' in this project are male vs female, low_chol vs high_chol, and junior vs senior.  \n",
    "\n",
    "### What does 'risk factor' mean? \n",
    "Risk ratio is the ratio of the probability of an outcome (i.e. disease) in an exposed group to the probability of an outcome in an unexposed group. In this study, the outcome is the 'target', and the each of the 13 variables is the potential risk factor.  \n",
    "\n",
    "When risk ratio of an exposed group is greater than 1, it means the person in this exposed group is more likely to have the the disease than the persons in the unexposed group.  For more information, [click](https://en.wikipedia.org/wiki/Risk_ratio). "
   ]
  },
  {
   "cell_type": "markdown",
   "metadata": {},
   "source": [
    "# Data Analysis\n",
    "## Descriptive Statistics"
   ]
  },
  {
   "cell_type": "code",
   "execution_count": 6,
   "metadata": {
    "code_folding": [
     0
    ],
    "scrolled": false
   },
   "outputs": [
    {
     "name": "stdout",
     "output_type": "stream",
     "text": [
      "              age    trestbps        chol     thalach     oldpeak          ca\n",
      "count  303.000000  303.000000  303.000000  303.000000  303.000000  303.000000\n",
      "mean    54.438944  131.689769  246.693069  149.607261    1.039604    0.663366\n",
      "std      9.038662   17.599748   51.776918   22.875003    1.161075    0.934375\n",
      "min     29.000000   94.000000  126.000000   71.000000    0.000000    0.000000\n",
      "25%     48.000000  120.000000  211.000000  133.500000    0.000000    0.000000\n",
      "50%     56.000000  130.000000  241.000000  153.000000    0.800000    0.000000\n",
      "75%     61.000000  140.000000  275.000000  166.000000    1.600000    1.000000\n",
      "max     77.000000  200.000000  564.000000  202.000000    6.200000    3.000000\n"
     ]
    },
    {
     "data": {
      "text/plain": [
       "1    206\n",
       "0     97\n",
       "Name: sex, dtype: int64"
      ]
     },
     "execution_count": 6,
     "metadata": {},
     "output_type": "execute_result"
    }
   ],
   "source": [
    "# print descriptive stats for numerical data\n",
    "print (df[['age','trestbps', 'chol', 'thalach','oldpeak', 'ca']].describe())\n",
    "df.sex.value_counts()"
   ]
  },
  {
   "cell_type": "markdown",
   "metadata": {},
   "source": [
    "The study includes 303 patients (**206 male and 97 female**).  There are 2x more men than women participating the study.  The data is predominately represented by male.  The average **age** for all participants is 54.44 with standard deviation 9.03.  The average blood **cholesterol** is 246.7 +/- 51.8."
   ]
  },
  {
   "cell_type": "code",
   "execution_count": 7,
   "metadata": {
    "scrolled": true
   },
   "outputs": [
    {
     "name": "stdout",
     "output_type": "stream",
     "text": [
      "0    164\n",
      "1    139\n",
      "Name: target, dtype: int64\n",
      "4    144\n",
      "3     86\n",
      "2     50\n",
      "1     23\n",
      "Name: cp, dtype: int64\n"
     ]
    }
   ],
   "source": [
    "print(df.target.value_counts())\n",
    "print(df.cp.value_counts())"
   ]
  },
  {
   "cell_type": "markdown",
   "metadata": {},
   "source": [
    "Among all 303 patients, 139 patients are diagnosed with heart disease.  144 patients show asymptomatic chest pain (no pain), 86 patients have no-anginal pain, 50 patients have atypical angina pain and 23 have typical angina.  "
   ]
  },
  {
   "cell_type": "markdown",
   "metadata": {},
   "source": [
    "## Data Visualization\n",
    "### Data visualization on descriptive statistics"
   ]
  },
  {
   "cell_type": "code",
   "execution_count": 8,
   "metadata": {
    "code_folding": []
   },
   "outputs": [
    {
     "data": {
      "image/png": "[encoded data removed]",
      "text/plain": [
       "<Figure size 432x288 with 1 Axes>"
      ]
     },
     "metadata": {
      "needs_background": "light"
     },
     "output_type": "display_data"
    }
   ],
   "source": [
    "# Sex count\n",
    "sns.countplot(x='sex', data=df)\n",
    "plt.title('patient, sex')\n",
    "plt.show()"
   ]
  },
  {
   "cell_type": "markdown",
   "metadata": {},
   "source": [
    "Above is the barplot (countplot) for the number of patients in the data grouped by sex. Again, the dataset contains more male patients and female patients.  "
   ]
  },
  {
   "cell_type": "code",
   "execution_count": 9,
   "metadata": {
    "scrolled": true
   },
   "outputs": [
    {
     "data": {
      "text/html": [
       "<div>\n",
       "<style scoped>\n",
       "    .dataframe tbody tr th:only-of-type {\n",
       "        vertical-align: middle;\n",
       "    }\n",
       "\n",
       "    .dataframe tbody tr th {\n",
       "        vertical-align: top;\n",
       "    }\n",
       "\n",
       "    .dataframe thead th {\n",
       "        text-align: right;\n",
       "    }\n",
       "</style>\n",
       "<table border=\"1\" class=\"dataframe\">\n",
       "  <thead>\n",
       "    <tr style=\"text-align: right;\">\n",
       "      <th></th>\n",
       "      <th>count</th>\n",
       "      <th>mean</th>\n",
       "      <th>std</th>\n",
       "      <th>min</th>\n",
       "      <th>25%</th>\n",
       "      <th>50%</th>\n",
       "      <th>75%</th>\n",
       "      <th>max</th>\n",
       "    </tr>\n",
       "    <tr>\n",
       "      <th>sex</th>\n",
       "      <th></th>\n",
       "      <th></th>\n",
       "      <th></th>\n",
       "      <th></th>\n",
       "      <th></th>\n",
       "      <th></th>\n",
       "      <th></th>\n",
       "      <th></th>\n",
       "    </tr>\n",
       "  </thead>\n",
       "  <tbody>\n",
       "    <tr>\n",
       "      <th>0</th>\n",
       "      <td>97.0</td>\n",
       "      <td>55.721649</td>\n",
       "      <td>9.370546</td>\n",
       "      <td>34.0</td>\n",
       "      <td>50.0</td>\n",
       "      <td>57.0</td>\n",
       "      <td>63.00</td>\n",
       "      <td>76.0</td>\n",
       "    </tr>\n",
       "    <tr>\n",
       "      <th>1</th>\n",
       "      <td>206.0</td>\n",
       "      <td>53.834951</td>\n",
       "      <td>8.836838</td>\n",
       "      <td>29.0</td>\n",
       "      <td>47.0</td>\n",
       "      <td>54.5</td>\n",
       "      <td>59.75</td>\n",
       "      <td>77.0</td>\n",
       "    </tr>\n",
       "  </tbody>\n",
       "</table>\n",
       "</div>"
      ],
      "text/plain": [
       "     count       mean       std   min   25%   50%    75%   max\n",
       "sex                                                           \n",
       "0     97.0  55.721649  9.370546  34.0  50.0  57.0  63.00  76.0\n",
       "1    206.0  53.834951  8.836838  29.0  47.0  54.5  59.75  77.0"
      ]
     },
     "execution_count": 9,
     "metadata": {},
     "output_type": "execute_result"
    }
   ],
   "source": [
    "# Table of age statistics grouped by sex\n",
    "df.groupby('sex').age.describe()"
   ]
  },
  {
   "cell_type": "markdown",
   "metadata": {},
   "source": [
    "The table above shows the mean, std, and quardrtiles of age in males and females.  Violin plot can be used here to show distribution of sex and age for data visualization."
   ]
  },
  {
   "cell_type": "code",
   "execution_count": 10,
   "metadata": {
    "code_folding": [],
    "scrolled": false
   },
   "outputs": [
    {
     "data": {
      "image/png": "[encoded data removed]",
      "text/plain": [
       "<Figure size 432x288 with 1 Axes>"
      ]
     },
     "metadata": {
      "needs_background": "light"
     },
     "output_type": "display_data"
    }
   ],
   "source": [
    "# violin plot on sex and age\n",
    "ax = sns.violinplot(x='sex', y='age', scale = 'count', data = df)\n",
    "plt.title('age and sex distribution')\n",
    "plt.show()"
   ]
  },
  {
   "cell_type": "markdown",
   "metadata": {},
   "source": [
    "The visualization of the data is agreeable to the descriptive statistics.  \n",
    "* There are more males than females in the study. (206:97)\n",
    "* Female mean age is greater than male mean age (F:55.7, M:53.4).  "
   ]
  },
  {
   "cell_type": "markdown",
   "metadata": {},
   "source": [
    "### Data visualization for numberical variables\n",
    "#### Histogram and bar chart"
   ]
  },
  {
   "cell_type": "code",
   "execution_count": 11,
   "metadata": {
    "code_folding": [
     0
    ]
   },
   "outputs": [
    {
     "data": {
      "image/png": "[encoded data removed]",
      "text/plain": [
       "<Figure size 1440x720 with 6 Axes>"
      ]
     },
     "metadata": {
      "needs_background": "light"
     },
     "output_type": "display_data"
    }
   ],
   "source": [
    "# Histogram and barchart for age, trestbps, chol, thalach, oldpeak, ca\n",
    "fig=plt.figure(figsize = (20, 10))\n",
    "\n",
    "plt.subplot(2, 3, 1)\n",
    "plt.hist(df['age'])\n",
    "plt.xlabel('age')\n",
    "plt.ylabel('count')\n",
    "plt.title('patients, age')\n",
    "plt.axvline(df['age'].mean(), color='k', linestyle='dashed', linewidth=1)\n",
    "plt.axvline(df['age'].mean()+df['age'].std(), color='k', linestyle='dotted', linewidth=1)\n",
    "plt.axvline(df['age'].mean()-df['age'].std(), color='k', linestyle='dotted', linewidth=1)\n",
    "\n",
    "\n",
    "plt.subplot(2, 3, 2)\n",
    "plt.hist(df['trestbps'], color ='g')\n",
    "plt.xlabel('trestbps')\n",
    "plt.ylabel('count')\n",
    "plt.title('patients, trestbps')\n",
    "plt.axvline(df['trestbps'].mean(), color='k', linestyle='dashed', linewidth=1)\n",
    "plt.axvline(df['trestbps'].mean()+df['trestbps'].std(), color='k', linestyle='dotted', linewidth=1)\n",
    "plt.axvline(df['trestbps'].mean()-df['trestbps'].std(), color='k', linestyle='dotted', linewidth=1)\n",
    "\n",
    "plt.subplot(2, 3, 3)\n",
    "plt.hist(df['chol'], color ='r')\n",
    "plt.xlabel('chol')\n",
    "plt.ylabel('count')\n",
    "plt.title('patients, chol')\n",
    "plt.axvline(df['chol'].mean(), color='k', linestyle='dashed', linewidth=1)\n",
    "plt.axvline(df['chol'].mean()+df['chol'].std(), color='k', linestyle='dotted', linewidth=1)\n",
    "plt.axvline(df['chol'].mean()-df['chol'].std(), color='k', linestyle='dotted', linewidth=1)\n",
    "\n",
    "plt.subplot(2, 3, 4)\n",
    "plt.hist(df['thalach'], color ='c')\n",
    "plt.xlabel('thalach')\n",
    "plt.ylabel('count')\n",
    "plt.title('patients, thalach')\n",
    "plt.axvline(df['thalach'].mean(), color='k', linestyle='dashed', linewidth=1)\n",
    "plt.axvline(df['thalach'].mean()+df['thalach'].std(), color='k', linestyle='dotted', linewidth=1)\n",
    "plt.axvline(df['thalach'].mean()-df['thalach'].std(), color='k', linestyle='dotted', linewidth=1)\n",
    "\n",
    "plt.subplot(2, 3, 5)\n",
    "plt.hist(df['oldpeak'], color ='m')\n",
    "plt.xlabel('oldpeak')\n",
    "plt.ylabel('count')\n",
    "plt.title('patients, oldpeak')\n",
    "plt.axvline(df['oldpeak'].mean(), color='k', linestyle='dashed', linewidth=1)\n",
    "plt.axvline(df['oldpeak'].mean()+df['oldpeak'].std(), color='k', linestyle='dotted', linewidth=1)\n",
    "plt.axvline(df['oldpeak'].mean()-df['oldpeak'].std(), color='k', linestyle='dotted', linewidth=1)\n",
    "\n",
    "plt.subplot(2, 3, 6)\n",
    "#plt.hist(df['ca'])\n",
    "sns.countplot(x='ca', data=df, color ='y')\n",
    "plt.xlabel('ca')\n",
    "plt.ylabel('count')\n",
    "plt.title('patients, ca')\n",
    "plt.axvline(df['ca'].mean(), color='k', linestyle='dashed', linewidth=1)\n",
    "plt.axvline(df['ca'].mean()+df['ca'].std(), color='k', linestyle='dotted', linewidth=1)\n",
    "plt.axvline(df['ca'].mean()-df['ca'].std(), color='k', linestyle='dotted', linewidth=1)\n",
    "plt.show()"
   ]
  },
  {
   "cell_type": "markdown",
   "metadata": {},
   "source": [
    "The graphs above show the distribution of the numerical variables.  One standard deviation from the mean is also labeled in the graphs for better visualization.  "
   ]
  },
  {
   "cell_type": "markdown",
   "metadata": {},
   "source": [
    "#### Box plot for numerical variables for patients with/without disease \n"
   ]
  },
  {
   "cell_type": "code",
   "execution_count": 12,
   "metadata": {
    "code_folding": [
     0
    ]
   },
   "outputs": [
    {
     "data": {
      "image/png": "[encoded data removed]",
      "text/plain": [
       "<Figure size 1440x720 with 6 Axes>"
      ]
     },
     "metadata": {
      "needs_background": "light"
     },
     "output_type": "display_data"
    }
   ],
   "source": [
    "# box plot for people with or without disease\n",
    "fig=plt.figure(figsize = (20, 10))\n",
    "\n",
    "plt.subplot(2, 3, 1)\n",
    "sns.boxplot(x='target', y='age', data=df)\n",
    "plt.xlabel('target')\n",
    "plt.ylabel('age')\n",
    "plt.title('patients, age')\n",
    "\n",
    "plt.subplot(2, 3, 2)\n",
    "sns.boxplot(x='target', y='trestbps', data=df)\n",
    "plt.xlabel('target')\n",
    "plt.ylabel('trestbps')\n",
    "plt.title('patients, trestbps')\n",
    "\n",
    "plt.subplot(2, 3, 3)\n",
    "sns.boxplot(x='target', y='chol', data=df)\n",
    "plt.xlabel('target')\n",
    "plt.ylabel('chol')\n",
    "plt.title('patients, chol')\n",
    "\n",
    "plt.subplot(2, 3, 4)\n",
    "sns.boxplot(x='target', y='thalach', data=df)\n",
    "plt.xlabel('target')\n",
    "plt.ylabel('thalach')\n",
    "plt.title('patients, thalach')\n",
    "\n",
    "plt.subplot(2, 3, 5)\n",
    "sns.boxplot(x='target', y='oldpeak', data=df)\n",
    "plt.xlabel('target')\n",
    "plt.ylabel('oldpeak')\n",
    "plt.title('patients, oldpeak')\n",
    "\n",
    "plt.subplot(2, 3, 6)\n",
    "sns.boxplot(x='target', y='ca', data=df)\n",
    "plt.xlabel('target')\n",
    "plt.ylabel('ca')\n",
    "plt.title('patients, ca')\n",
    "\n",
    "plt.show()"
   ]
  },
  {
   "cell_type": "markdown",
   "metadata": {},
   "source": [
    "Above are the boxplots for patients with disease (orange box) vs patient without disease (blue) in all 6 numerical variables. Based on the observation, patients' age, trestbps, and **chol** are not correlated to the disease (top 3 figures).  The blue and orange box have overlapped each other in age, trestbps and chol, suggesting that there is no significant difference in those 3 variables from patients with heart disease, compared to patients without heart disease.  However, in the thalach graph (lower left), people who have lower thalach tend to have disease (target=1, negative correlation) .  In the oldpeak graph (lower center), people who have higher oldpeak tend to have disease.  In the ca graph, people who have higher ca tends to have disease.  In fact, ca is one of the methods to diagnose heart disease and ca and target are likely dependent variables.\n"
   ]
  },
  {
   "cell_type": "markdown",
   "metadata": {},
   "source": [
    "#### Linear Correlation for numerical variables"
   ]
  },
  {
   "cell_type": "code",
   "execution_count": 13,
   "metadata": {
    "code_folding": []
   },
   "outputs": [
    {
     "data": {
      "text/html": [
       "<div>\n",
       "<style scoped>\n",
       "    .dataframe tbody tr th:only-of-type {\n",
       "        vertical-align: middle;\n",
       "    }\n",
       "\n",
       "    .dataframe tbody tr th {\n",
       "        vertical-align: top;\n",
       "    }\n",
       "\n",
       "    .dataframe thead th {\n",
       "        text-align: right;\n",
       "    }\n",
       "</style>\n",
       "<table border=\"1\" class=\"dataframe\">\n",
       "  <thead>\n",
       "    <tr style=\"text-align: right;\">\n",
       "      <th></th>\n",
       "      <th>age</th>\n",
       "      <th>trestbps</th>\n",
       "      <th>chol</th>\n",
       "      <th>thalach</th>\n",
       "      <th>oldpeak</th>\n",
       "      <th>ca</th>\n",
       "      <th>target</th>\n",
       "    </tr>\n",
       "  </thead>\n",
       "  <tbody>\n",
       "    <tr>\n",
       "      <th>age</th>\n",
       "      <td>1.000000</td>\n",
       "      <td>0.284946</td>\n",
       "      <td>0.208950</td>\n",
       "      <td>-0.393806</td>\n",
       "      <td>0.203805</td>\n",
       "      <td>0.365323</td>\n",
       "      <td>0.223120</td>\n",
       "    </tr>\n",
       "    <tr>\n",
       "      <th>trestbps</th>\n",
       "      <td>0.284946</td>\n",
       "      <td>1.000000</td>\n",
       "      <td>0.130120</td>\n",
       "      <td>-0.045351</td>\n",
       "      <td>0.189171</td>\n",
       "      <td>0.097528</td>\n",
       "      <td>0.150825</td>\n",
       "    </tr>\n",
       "    <tr>\n",
       "      <th>chol</th>\n",
       "      <td>0.208950</td>\n",
       "      <td>0.130120</td>\n",
       "      <td>1.000000</td>\n",
       "      <td>-0.003432</td>\n",
       "      <td>0.046564</td>\n",
       "      <td>0.123726</td>\n",
       "      <td>0.085164</td>\n",
       "    </tr>\n",
       "    <tr>\n",
       "      <th>thalach</th>\n",
       "      <td>-0.393806</td>\n",
       "      <td>-0.045351</td>\n",
       "      <td>-0.003432</td>\n",
       "      <td>1.000000</td>\n",
       "      <td>-0.343085</td>\n",
       "      <td>-0.265699</td>\n",
       "      <td>-0.417167</td>\n",
       "    </tr>\n",
       "    <tr>\n",
       "      <th>oldpeak</th>\n",
       "      <td>0.203805</td>\n",
       "      <td>0.189171</td>\n",
       "      <td>0.046564</td>\n",
       "      <td>-0.343085</td>\n",
       "      <td>1.000000</td>\n",
       "      <td>0.301067</td>\n",
       "      <td>0.424510</td>\n",
       "    </tr>\n",
       "    <tr>\n",
       "      <th>ca</th>\n",
       "      <td>0.365323</td>\n",
       "      <td>0.097528</td>\n",
       "      <td>0.123726</td>\n",
       "      <td>-0.265699</td>\n",
       "      <td>0.301067</td>\n",
       "      <td>1.000000</td>\n",
       "      <td>0.460033</td>\n",
       "    </tr>\n",
       "    <tr>\n",
       "      <th>target</th>\n",
       "      <td>0.223120</td>\n",
       "      <td>0.150825</td>\n",
       "      <td>0.085164</td>\n",
       "      <td>-0.417167</td>\n",
       "      <td>0.424510</td>\n",
       "      <td>0.460033</td>\n",
       "      <td>1.000000</td>\n",
       "    </tr>\n",
       "  </tbody>\n",
       "</table>\n",
       "</div>"
      ],
      "text/plain": [
       "               age  trestbps      chol   thalach   oldpeak        ca    target\n",
       "age       1.000000  0.284946  0.208950 -0.393806  0.203805  0.365323  0.223120\n",
       "trestbps  0.284946  1.000000  0.130120 -0.045351  0.189171  0.097528  0.150825\n",
       "chol      0.208950  0.130120  1.000000 -0.003432  0.046564  0.123726  0.085164\n",
       "thalach  -0.393806 -0.045351 -0.003432  1.000000 -0.343085 -0.265699 -0.417167\n",
       "oldpeak   0.203805  0.189171  0.046564 -0.343085  1.000000  0.301067  0.424510\n",
       "ca        0.365323  0.097528  0.123726 -0.265699  0.301067  1.000000  0.460033\n",
       "target    0.223120  0.150825  0.085164 -0.417167  0.424510  0.460033  1.000000"
      ]
     },
     "execution_count": 13,
     "metadata": {},
     "output_type": "execute_result"
    }
   ],
   "source": [
    "# linear correlation\n",
    "df.corr()"
   ]
  },
  {
   "cell_type": "code",
   "execution_count": 14,
   "metadata": {},
   "outputs": [
    {
     "data": {
      "image/png": "[encoded data removed]",
      "text/plain": [
       "<Figure size 720x432 with 2 Axes>"
      ]
     },
     "metadata": {
      "needs_background": "light"
     },
     "output_type": "display_data"
    }
   ],
   "source": [
    "fig =plt.figure(figsize = (10, 6))\n",
    "\n",
    "plt.subplot(1, 2, 1)\n",
    "ax1 = sns.violinplot(x='target', y='age', data = df)\n",
    "plt.title('age and heart disease')\n",
    "plt.xlabel('heart diseases')\n",
    "\n",
    "plt.subplot(1, 2, 2)\n",
    "ax2 = sns.violinplot(x='target', y='chol', data = df)\n",
    "plt.title('chol and heart disease')\n",
    "plt.xlabel('heart diseases')\n",
    "plt.show()"
   ]
  },
  {
   "cell_type": "markdown",
   "metadata": {},
   "source": [
    "The plots above shows that people with heart disease are senior-heavy, while people without heart disease are normally distributed."
   ]
  },
  {
   "cell_type": "markdown",
   "metadata": {},
   "source": [
    "#### Heatmap to visualize the correlation coefficients.  "
   ]
  },
  {
   "cell_type": "code",
   "execution_count": 15,
   "metadata": {
    "code_folding": [
     0
    ]
   },
   "outputs": [
    {
     "data": {
      "image/png": "[encoded data removed]",
      "text/plain": [
       "<Figure size 504x504 with 2 Axes>"
      ]
     },
     "metadata": {
      "needs_background": "light"
     },
     "output_type": "display_data"
    }
   ],
   "source": [
    "# Heat Map for correlation\n",
    "# Generate a mask for the upper triangle\n",
    "mask = np.zeros_like(df.corr(), dtype=np.bool)\n",
    "mask[np.triu_indices_from(mask)] = True\n",
    "\n",
    "# Set up the matplotlib figure\n",
    "f, ax = plt.subplots(figsize=(7, 7))\n",
    "\n",
    "# Generate a custom diverging colormap\n",
    "cmap = sns.diverging_palette(220, 10, as_cmap=True)\n",
    "\n",
    "# Draw the heatmap with the mask and correct aspect ratio\n",
    "sns.heatmap(df.corr(), mask=mask, annot=True, cmap=cmap, vmax=.5, center=0,\n",
    "            square=True, linewidths=.5, fmt= '.2f', cbar_kws={\"shrink\": .5})\n",
    "\n",
    "\n",
    "# f,ax = plt.subplots(figsize=(7, 7))\n",
    "\n",
    "# sns.heatmap(df.corr(), annot=True, linewidths=.5, fmt= '.2f',ax=ax)\n",
    "plt.show()"
   ]
  },
  {
   "cell_type": "markdown",
   "metadata": {},
   "source": [
    "This heat map above shows the correlation between each numerical inputs and the predition (target).  The bottom line information is at the very bottom row where the correlation coefficients are -0.42, 0.42 and 0.46 between target and (thalach, oldpeak and ca) respsctively. Interestingly, the correlation coefficient between target and (age, trestbps, and chol) are low. \n"
   ]
  },
  {
   "cell_type": "markdown",
   "metadata": {},
   "source": [
    "#### Swarm plot and scatterplot to visualize the numerical variables"
   ]
  },
  {
   "cell_type": "code",
   "execution_count": 16,
   "metadata": {
    "code_folding": [
     0
    ],
    "scrolled": false
   },
   "outputs": [
    {
     "data": {
      "image/png": "[encoded data removed]",
      "text/plain": [
       "<Figure size 1080x360 with 3 Axes>"
      ]
     },
     "metadata": {
      "needs_background": "light"
     },
     "output_type": "display_data"
    }
   ],
   "source": [
    "# swarm plot\n",
    "fig=plt.figure(figsize = (15, 5))\n",
    "plt.subplot(1, 3, 1)\n",
    "sns.swarmplot(x='ca', y='oldpeak', hue='target', data=df)\n",
    "plt.legend(title= 'target', loc=\"upper right\")\n",
    "plt.title('oldpeak vs ca')\n",
    "\n",
    "plt.subplot(1, 3, 2)\n",
    "sns.swarmplot(x='ca', y='thalach', hue='target', data=df)\n",
    "plt.title('thalach vs ca')\n",
    "\n",
    "plt.subplot(1, 3, 3)\n",
    "sns.scatterplot(x='oldpeak', y='thalach', hue='target', data=df)\n",
    "plt.title('thalach vs oldpeak')\n",
    "\n",
    "plt.show()"
   ]
  },
  {
   "cell_type": "markdown",
   "metadata": {},
   "source": [
    "In general, **high oldpeak, high ca and low thalach** are potential high risk factors. \n",
    "\n",
    "In addition to numberical variables, categorical variables can be created from numerical ones.  In particular, **'elderly' is a categorical variable created to represent people aged 55 and above.  'High_chol' is another categorical variable to show people with blood chol level equal to or greater than 250.**  These new variables will be analyzed in the next session with other categorical ones. "
   ]
  },
  {
   "cell_type": "markdown",
   "metadata": {},
   "source": [
    "### Data visualization for categorical variables\n",
    "\n",
    "Below shows the bar charts for all the categorical variables.  "
   ]
  },
  {
   "cell_type": "code",
   "execution_count": 17,
   "metadata": {
    "code_folding": [
     0
    ]
   },
   "outputs": [
    {
     "data": {
      "image/png": "[encoded data removed]",
      "text/plain": [
       "<Figure size 1440x720 with 7 Axes>"
      ]
     },
     "metadata": {
      "needs_background": "light"
     },
     "output_type": "display_data"
    }
   ],
   "source": [
    "# Categorical variables and heart disease\n",
    "fig =plt.figure(figsize = (20, 10))\n",
    "\n",
    "plt.subplot(2, 4, 1)\n",
    "ax1=sns.countplot(x=\"sex\", hue= \"target\", data=df)\n",
    "ax1.get_legend().remove()\n",
    "plt.title('sex and heart disease')\n",
    "\n",
    "\n",
    "plt.subplot(2, 4, 2)\n",
    "ax2=sns.countplot(x=\"cp\", hue= \"target\", data=df)\n",
    "ax2.get_legend().remove()\n",
    "plt.title('cp and heart disease')\n",
    "\n",
    "plt.subplot(2, 4, 3)\n",
    "ax3=sns.countplot(x=\"fbs\", hue= \"target\", data=df)\n",
    "ax3.get_legend().remove()\n",
    "plt.title('fbs and heart disease')\n",
    "\n",
    "plt.subplot(2, 4, 4)\n",
    "ax4=sns.countplot(x=\"restecg\", hue= \"target\", data=df)\n",
    "ax4.get_legend().remove()\n",
    "plt.title('restecg and heart disease')\n",
    "\n",
    "plt.subplot(2, 4, 5)\n",
    "ax5=sns.countplot(x=\"exang\", hue= \"target\", data=df)\n",
    "ax5.get_legend().remove()\n",
    "plt.title('exang and heart disease')\n",
    "\n",
    "plt.subplot(2, 4, 6)\n",
    "ax6=sns.countplot(x=\"slope\", hue= \"target\", data=df)\n",
    "ax6.get_legend().remove()\n",
    "plt.title('slope and heart disease')\n",
    "\n",
    "plt.subplot(2, 4, 7)\n",
    "ax7=sns.countplot(x=\"thal\", hue= \"target\", data=df)\n",
    "plt.title('thal and heart disease')\n",
    "ax7.legend(title='target', loc='upper right', bbox_to_anchor=(1.25, 1.05))\n",
    "\n",
    "\n",
    "plt.show()"
   ]
  },
  {
   "cell_type": "markdown",
   "metadata": {},
   "source": [
    "## A/B Testing on categorical variables: elderly, high_chol, and sex"
   ]
  },
  {
   "cell_type": "markdown",
   "metadata": {},
   "source": [
    "Two more categorical variables, 'elderly' and 'high_chol', are created from the numerical variables.  The following analysis is focused on the relationship between elderly - target, high_chol - target, and sex - target.  "
   ]
  },
  {
   "cell_type": "code",
   "execution_count": 18,
   "metadata": {
    "code_folding": [
     0
    ]
   },
   "outputs": [
    {
     "data": {
      "text/html": [
       "<div>\n",
       "<style scoped>\n",
       "    .dataframe tbody tr th:only-of-type {\n",
       "        vertical-align: middle;\n",
       "    }\n",
       "\n",
       "    .dataframe tbody tr th {\n",
       "        vertical-align: top;\n",
       "    }\n",
       "\n",
       "    .dataframe thead th {\n",
       "        text-align: right;\n",
       "    }\n",
       "</style>\n",
       "<table border=\"1\" class=\"dataframe\">\n",
       "  <thead>\n",
       "    <tr style=\"text-align: right;\">\n",
       "      <th>elderly</th>\n",
       "      <th>0</th>\n",
       "      <th>1</th>\n",
       "    </tr>\n",
       "    <tr>\n",
       "      <th>target</th>\n",
       "      <th></th>\n",
       "      <th></th>\n",
       "    </tr>\n",
       "  </thead>\n",
       "  <tbody>\n",
       "    <tr>\n",
       "      <th>0</th>\n",
       "      <td>99</td>\n",
       "      <td>65</td>\n",
       "    </tr>\n",
       "    <tr>\n",
       "      <th>1</th>\n",
       "      <td>44</td>\n",
       "      <td>95</td>\n",
       "    </tr>\n",
       "  </tbody>\n",
       "</table>\n",
       "</div>"
      ],
      "text/plain": [
       "elderly   0   1\n",
       "target         \n",
       "0        99  65\n",
       "1        44  95"
      ]
     },
     "metadata": {},
     "output_type": "display_data"
    }
   ],
   "source": [
    "# Define elderly : age >= 55\n",
    "df['elderly'] = np.where(df['age']>= 55, '1', '0')\n",
    "elderly_heart=pd.crosstab(df.target, df.elderly)\n",
    "display(elderly_heart)"
   ]
  },
  {
   "cell_type": "code",
   "execution_count": 19,
   "metadata": {
    "code_folding": [
     0
    ],
    "scrolled": true
   },
   "outputs": [
    {
     "data": {
      "text/html": [
       "<div>\n",
       "<style scoped>\n",
       "    .dataframe tbody tr th:only-of-type {\n",
       "        vertical-align: middle;\n",
       "    }\n",
       "\n",
       "    .dataframe tbody tr th {\n",
       "        vertical-align: top;\n",
       "    }\n",
       "\n",
       "    .dataframe thead th {\n",
       "        text-align: right;\n",
       "    }\n",
       "</style>\n",
       "<table border=\"1\" class=\"dataframe\">\n",
       "  <thead>\n",
       "    <tr style=\"text-align: right;\">\n",
       "      <th>high_chol</th>\n",
       "      <th>0</th>\n",
       "      <th>1</th>\n",
       "    </tr>\n",
       "    <tr>\n",
       "      <th>target</th>\n",
       "      <th></th>\n",
       "      <th></th>\n",
       "    </tr>\n",
       "  </thead>\n",
       "  <tbody>\n",
       "    <tr>\n",
       "      <th>0</th>\n",
       "      <td>103</td>\n",
       "      <td>61</td>\n",
       "    </tr>\n",
       "    <tr>\n",
       "      <th>1</th>\n",
       "      <td>70</td>\n",
       "      <td>69</td>\n",
       "    </tr>\n",
       "  </tbody>\n",
       "</table>\n",
       "</div>"
      ],
      "text/plain": [
       "high_chol    0   1\n",
       "target            \n",
       "0          103  61\n",
       "1           70  69"
      ]
     },
     "metadata": {},
     "output_type": "display_data"
    }
   ],
   "source": [
    "# define high_chol as chol >=250\n",
    "df['high_chol'] = np.where(df['chol']>= 250, '1', '0')\n",
    "chol_heart=pd.crosstab(df.target, df.high_chol)\n",
    "display(chol_heart)"
   ]
  },
  {
   "cell_type": "markdown",
   "metadata": {},
   "source": [
    "Here are the box plots for elderly and high_chol.  "
   ]
  },
  {
   "cell_type": "code",
   "execution_count": 20,
   "metadata": {
    "code_folding": []
   },
   "outputs": [
    {
     "data": {
      "image/png": "[encoded data removed]",
      "text/plain": [
       "<Figure size 864x288 with 2 Axes>"
      ]
     },
     "metadata": {
      "needs_background": "light"
     },
     "output_type": "display_data"
    }
   ],
   "source": [
    "# plot: age and chol\n",
    "fig =plt.figure(figsize = (12, 4))\n",
    "\n",
    "\n",
    "plt.subplot(1, 2, 1)\n",
    "ax1=sns.countplot(x=\"elderly\", hue= \"target\", data=df)\n",
    "ax1.set_xticklabels(['age < 55', 'age >=55'])\n",
    "ax1.get_legend().remove()\n",
    "plt.title('age and heart disease')\n",
    "\n",
    "plt.subplot(1, 2, 2)\n",
    "ax2=sns.countplot(x=\"high_chol\", hue= \"target\", data=df)\n",
    "ax2.set_xticklabels(['chol < 250', 'chol >=250'])\n",
    "plt.title('chol and heart disease')\n",
    "\n",
    "plt.show()"
   ]
  },
  {
   "cell_type": "markdown",
   "metadata": {},
   "source": [
    "The bar plot shows a trend that more people are without heart diseases under age 55 (compared to people under 55 with heart diseases).  For people 55 and above, more people have have heart diseases than people without heart diseases.  <br>\n",
    "In chol < 250 group, more people have no heart diseases than people have heart diseases.  While in chol >= 250 group, more people have heart diseases than people have no heart diseases.  The following A/B testing is to verify these findings are statistically significant.  "
   ]
  },
  {
   "cell_type": "markdown",
   "metadata": {},
   "source": [
    "### A/B Testing on elderly and target\n",
    "Previously in section 2.2.2.3, the analysis shows that the 'age' is not linearly correlated to 'target' (correlation coeff= 0.22). Alternatively the categorical variable 'elderly' is derived from numerical 'age'. The question is: is age above 55 associated with heart disease?\n",
    "\n",
    "In order to answer our question, our null hypothesis H0 is: <br> People aged less than 55 have the same percentage of heart disease, compared to people aged 55 and above. <br><br> The alternative hypothesis H1 is: <br> People aged less than 55, compared to people 55 and above, have different percentages in having heart disease. The following analysis is performed by proportional z-test."
   ]
  },
  {
   "cell_type": "code",
   "execution_count": 21,
   "metadata": {
    "code_folding": [
     0
    ],
    "scrolled": true
   },
   "outputs": [
    {
     "name": "stdout",
     "output_type": "stream",
     "text": [
      "average age is    54.44\n",
      "z test: z=   -4.99, p=6.08E-07\n"
     ]
    }
   ],
   "source": [
    "# z-test on age <55 and age >=55 \n",
    "count = elderly_heart.loc[1].to_numpy()\n",
    "nobs = elderly_heart.sum().to_numpy()\n",
    "z, pval = proportions_ztest(count, nobs, value=0, alternative='two-sided')\n",
    "\n",
    "print ('average age is {0:8.2f}'.format(df.age.mean()))\n",
    "print ('z test: z={z:8.2f}, p={p:.2E}'.format(z=z, p=pval))"
   ]
  },
  {
   "cell_type": "markdown",
   "metadata": {},
   "source": [
    "Based on the z-test, we reject the null hypothesis since p < 0.05.  There are significant differences in patients' age less than 55 and patients' age 55 and above, for their heart disease rates.  The data shows that heart diseases and age are associated.  "
   ]
  },
  {
   "cell_type": "markdown",
   "metadata": {},
   "source": [
    "### A/B Testing on high_chol and target\n",
    "Previously in section 2.2.2.3, the analysis shows that the 'chol' is not linearly correlated to 'target'.  Alternatively the categorical variable 'high_chol' is derived from numerical 'chol'.  The question is: is chol level above 250 associated with heart disease? \n",
    "\n",
    "In order to answer our question, <br>\n",
    "our null hypothesis H0 is: <br>\n",
    "People with chol less than 250 have the same percentage of heart disease, compared to people with chol level 250 and above. <br><br>\n",
    "the alternative hypothesis H1 is: <br>\n",
    "People with chol level 250 and above have different percentage in having heart disease.  The following analysis is performed by proportional z-test.  "
   ]
  },
  {
   "cell_type": "code",
   "execution_count": 22,
   "metadata": {
    "code_folding": [
     0
    ],
    "scrolled": false
   },
   "outputs": [
    {
     "name": "stdout",
     "output_type": "stream",
     "text": [
      "average chol is   246.69\n",
      "z test: z=   -2.18, p=2.92E-02\n"
     ]
    }
   ],
   "source": [
    "# z-test on chol >= 250 and chol < 250\n",
    "count = chol_heart.loc[1].to_numpy()\n",
    "nobs = chol_heart.sum().to_numpy()\n",
    "z, pval = proportions_ztest(count, nobs, value=0, alternative='two-sided')\n",
    "\n",
    "print ('average chol is {0:8.2f}'.format(df.chol.mean()))\n",
    "print ('z test: z={z:8.2f}, p={p:.2E}'.format(z=z, p=pval))"
   ]
  },
  {
   "cell_type": "markdown",
   "metadata": {},
   "source": [
    "Based on z-test, we reject the null hypothesis since p < 0.05.  There are significant differences in the percentage of heart diseases between patients whose chol level is below 250 and patients whose chol level is 250 and above. The data shows that heart diseases and high_chol are associated."
   ]
  },
  {
   "cell_type": "markdown",
   "metadata": {},
   "source": [
    "### A/B testing on sex and target\n",
    "Below shows the table of the number (counts) of Female and Male patients with and without heart disease.  The null hypothesis H0 is that the proportion of male patients with heart diseases is the same as the proportion of female patients with heart diseases. The alternative hypothesis H1 is that the propotion male patient with heart is NOT the same as female."
   ]
  },
  {
   "cell_type": "code",
   "execution_count": 23,
   "metadata": {
    "code_folding": [],
    "scrolled": true
   },
   "outputs": [
    {
     "data": {
      "text/html": [
       "<div>\n",
       "<style scoped>\n",
       "    .dataframe tbody tr th:only-of-type {\n",
       "        vertical-align: middle;\n",
       "    }\n",
       "\n",
       "    .dataframe tbody tr th {\n",
       "        vertical-align: top;\n",
       "    }\n",
       "\n",
       "    .dataframe thead th {\n",
       "        text-align: right;\n",
       "    }\n",
       "</style>\n",
       "<table border=\"1\" class=\"dataframe\">\n",
       "  <thead>\n",
       "    <tr style=\"text-align: right;\">\n",
       "      <th>sex</th>\n",
       "      <th>0</th>\n",
       "      <th>1</th>\n",
       "    </tr>\n",
       "    <tr>\n",
       "      <th>target</th>\n",
       "      <th></th>\n",
       "      <th></th>\n",
       "    </tr>\n",
       "  </thead>\n",
       "  <tbody>\n",
       "    <tr>\n",
       "      <th>0</th>\n",
       "      <td>72</td>\n",
       "      <td>92</td>\n",
       "    </tr>\n",
       "    <tr>\n",
       "      <th>1</th>\n",
       "      <td>25</td>\n",
       "      <td>114</td>\n",
       "    </tr>\n",
       "  </tbody>\n",
       "</table>\n",
       "</div>"
      ],
      "text/plain": [
       "sex      0    1\n",
       "target         \n",
       "0       72   92\n",
       "1       25  114"
      ]
     },
     "metadata": {},
     "output_type": "display_data"
    }
   ],
   "source": [
    "sex_heart= pd.crosstab(df.target, df.sex)\n",
    "display(sex_heart)"
   ]
  },
  {
   "cell_type": "code",
   "execution_count": 24,
   "metadata": {},
   "outputs": [
    {
     "data": {
      "image/png": "[encoded data removed]",
      "text/plain": [
       "<Figure size 432x288 with 1 Axes>"
      ]
     },
     "metadata": {
      "needs_background": "light"
     },
     "output_type": "display_data"
    }
   ],
   "source": [
    "ax=sns.countplot(x=\"sex\", hue= \"target\", data=df)\n",
    "ax.get_legend().remove()\n",
    "plt.title('sex and heart disease')\n",
    "plt.show()"
   ]
  },
  {
   "cell_type": "code",
   "execution_count": 25,
   "metadata": {
    "code_folding": [
     0
    ]
   },
   "outputs": [
    {
     "name": "stdout",
     "output_type": "stream",
     "text": [
      "z test: z=   -4.82, p=1.45E-06\n"
     ]
    }
   ],
   "source": [
    "# z-test on heart disease in female and male\n",
    "count = sex_heart.loc[1].to_numpy()\n",
    "nobs = sex_heart.sum().to_numpy()\n",
    "z, pval = proportions_ztest(count, nobs, value=0, alternative='two-sided')\n",
    "print ('z test: z={z:8.2f}, p={p:.2E}'.format(z=z, p=pval))"
   ]
  },
  {
   "cell_type": "markdown",
   "metadata": {},
   "source": [
    "Since p < 0.05, the possibility of null hypothesis is < 0.05.  We reject the null hypothesis and there is significant differences between male and female who have heart diseases.   Since Z=-4.82 is negative, being a male has a higher chance to get heart disease than being a female.  "
   ]
  },
  {
   "cell_type": "markdown",
   "metadata": {},
   "source": [
    "##### Imbalanced Data on Sex\n",
    "It is noteworthy that there are more male (**206**) than female (**97**) in the study.  The under-representation in female might lead to the sampling bias so that more male patients have heart disease.  The following methods is to focus on the imbalanced data in the minority group.\n",
    "\n"
   ]
  },
  {
   "cell_type": "markdown",
   "metadata": {},
   "source": [
    "## Approaches to oversample the minority group"
   ]
  },
  {
   "cell_type": "markdown",
   "metadata": {},
   "source": [
    "The following two analyses are to upsample the female group via 'resample' so that the female and male are the same size. \n",
    "\n",
    "### Approach I: Resampling using Sklearn"
   ]
  },
  {
   "cell_type": "code",
   "execution_count": 26,
   "metadata": {},
   "outputs": [
    {
     "data": {
      "text/plain": [
       "1    206\n",
       "0    206\n",
       "Name: sex, dtype: int64"
      ]
     },
     "execution_count": 26,
     "metadata": {},
     "output_type": "execute_result"
    }
   ],
   "source": [
    "from sklearn.utils import resample\n",
    "# Separate majority and minority classes\n",
    "df_majority = df[df.sex==1]\n",
    "df_minority = df[df.sex==0] \n",
    "# Upsample minority class\n",
    "df_minority_upsampled = resample(df_minority, \n",
    "                                 replace=True,     # sample with replacement\n",
    "                                 n_samples=206,    # to match majority class\n",
    "                                 random_state=123) # reproducible results\n",
    " \n",
    "# Combine majority class with upsampled minority class\n",
    "df_upsampled = pd.concat([df_majority, df_minority_upsampled])\n",
    " \n",
    "# Display new class counts\n",
    "df_upsampled.sex.value_counts()"
   ]
  },
  {
   "cell_type": "markdown",
   "metadata": {},
   "source": [
    "Both male and female are now 206.  "
   ]
  },
  {
   "cell_type": "code",
   "execution_count": 27,
   "metadata": {},
   "outputs": [
    {
     "data": {
      "text/html": [
       "<div>\n",
       "<style scoped>\n",
       "    .dataframe tbody tr th:only-of-type {\n",
       "        vertical-align: middle;\n",
       "    }\n",
       "\n",
       "    .dataframe tbody tr th {\n",
       "        vertical-align: top;\n",
       "    }\n",
       "\n",
       "    .dataframe thead th {\n",
       "        text-align: right;\n",
       "    }\n",
       "</style>\n",
       "<table border=\"1\" class=\"dataframe\">\n",
       "  <thead>\n",
       "    <tr style=\"text-align: right;\">\n",
       "      <th>sex</th>\n",
       "      <th>0</th>\n",
       "      <th>1</th>\n",
       "    </tr>\n",
       "    <tr>\n",
       "      <th>target</th>\n",
       "      <th></th>\n",
       "      <th></th>\n",
       "    </tr>\n",
       "  </thead>\n",
       "  <tbody>\n",
       "    <tr>\n",
       "      <th>0</th>\n",
       "      <td>160</td>\n",
       "      <td>92</td>\n",
       "    </tr>\n",
       "    <tr>\n",
       "      <th>1</th>\n",
       "      <td>46</td>\n",
       "      <td>114</td>\n",
       "    </tr>\n",
       "  </tbody>\n",
       "</table>\n",
       "</div>"
      ],
      "text/plain": [
       "sex       0    1\n",
       "target          \n",
       "0       160   92\n",
       "1        46  114"
      ]
     },
     "metadata": {},
     "output_type": "display_data"
    },
    {
     "name": "stdout",
     "output_type": "stream",
     "text": [
      "z test: z=   -6.87, p=6.25E-12\n"
     ]
    }
   ],
   "source": [
    "# redo z-test on sex\n",
    "sex_heart_upsampled= pd.crosstab(df_upsampled.target, df_upsampled.sex)\n",
    "count = sex_heart_upsampled.loc[1].to_numpy()\n",
    "nobs = sex_heart_upsampled.sum().to_numpy()\n",
    "z, pval = proportions_ztest(count, nobs, value=0, alternative='two-sided')\n",
    "display(sex_heart_upsampled)\n",
    "print ('z test: z={z:8.2f}, p={p:.2E}'.format(z=z, p=pval))"
   ]
  },
  {
   "cell_type": "markdown",
   "metadata": {},
   "source": [
    "The resample in the minority group validates that being male is risk factor for heart disease.\n",
    "\n",
    "### Approach II: Resampling using SMOTE"
   ]
  },
  {
   "cell_type": "code",
   "execution_count": 28,
   "metadata": {
    "code_folding": [],
    "scrolled": true
   },
   "outputs": [],
   "source": [
    "# The following resample method is to use SMOTE\n",
    "\n",
    "x = df.drop('sex', axis =1)\n",
    "Y = df.sex\n",
    "\n",
    "sm = SMOTENC(random_state=42, categorical_features=[1, 4, 5, 7, 9, 10, 11, 12, 13, 14])\n",
    "x_res, Y_res = sm.fit_resample(x, Y)"
   ]
  },
  {
   "cell_type": "code",
   "execution_count": 29,
   "metadata": {
    "code_folding": []
   },
   "outputs": [],
   "source": [
    "# Reconstruct the dataframe \n",
    "sex_res = pd.DataFrame(data = Y_res, columns = ['sex'], dtype = 'category')\n",
    "test_res = pd.DataFrame(data = x_res, columns = ['age', 'cp', 'trestbps', 'chol', 'fbs', 'restecg', 'thalach', 'exang', \\\n",
    "                                                 'oldpeak', 'slope', 'ca', 'thal', 'target', 'elderly', 'high_chol'])   \n",
    "test_res = test_res.join(sex_res)\n"
   ]
  },
  {
   "cell_type": "code",
   "execution_count": 30,
   "metadata": {
    "code_folding": []
   },
   "outputs": [
    {
     "data": {
      "text/html": [
       "<div>\n",
       "<style scoped>\n",
       "    .dataframe tbody tr th:only-of-type {\n",
       "        vertical-align: middle;\n",
       "    }\n",
       "\n",
       "    .dataframe tbody tr th {\n",
       "        vertical-align: top;\n",
       "    }\n",
       "\n",
       "    .dataframe thead th {\n",
       "        text-align: right;\n",
       "    }\n",
       "</style>\n",
       "<table border=\"1\" class=\"dataframe\">\n",
       "  <thead>\n",
       "    <tr style=\"text-align: right;\">\n",
       "      <th>sex</th>\n",
       "      <th>0</th>\n",
       "      <th>1</th>\n",
       "    </tr>\n",
       "    <tr>\n",
       "      <th>target</th>\n",
       "      <th></th>\n",
       "      <th></th>\n",
       "    </tr>\n",
       "  </thead>\n",
       "  <tbody>\n",
       "    <tr>\n",
       "      <th>0</th>\n",
       "      <td>167</td>\n",
       "      <td>92</td>\n",
       "    </tr>\n",
       "    <tr>\n",
       "      <th>1</th>\n",
       "      <td>39</td>\n",
       "      <td>114</td>\n",
       "    </tr>\n",
       "  </tbody>\n",
       "</table>\n",
       "</div>"
      ],
      "text/plain": [
       "sex       0    1\n",
       "target          \n",
       "0       167   92\n",
       "1        39  114"
      ]
     },
     "metadata": {},
     "output_type": "display_data"
    },
    {
     "name": "stdout",
     "output_type": "stream",
     "text": [
      "female = 206: male=206\n"
     ]
    }
   ],
   "source": [
    "# display the recontruct dataset in sex\n",
    "sex_heart_res= pd.crosstab(test_res.target, test_res.sex)\n",
    "display(sex_heart_res)\n",
    "print('female = {0:}: male={1:}'.format(sex_res[sex_res.sex==0].sex.count(), sex_res[sex_res.sex==1].sex.count()))"
   ]
  },
  {
   "cell_type": "markdown",
   "metadata": {},
   "source": [
    "Male and female are both 206.  "
   ]
  },
  {
   "cell_type": "code",
   "execution_count": 31,
   "metadata": {},
   "outputs": [
    {
     "name": "stdout",
     "output_type": "stream",
     "text": [
      "z test: z=-7.65, p=2.05E-14\n"
     ]
    }
   ],
   "source": [
    "# Redo z-test in sex\n",
    "count = sex_heart_res.iloc[1].to_numpy()\n",
    "nobs = sex_heart_res.sum().to_numpy()\n",
    "z, pval = proportions_ztest(count, nobs, value=0, alternative='two-sided')\n",
    "print ('z test: z={z:3.2f}, p={p:.2E}'.format(z=z, p=pval))"
   ]
  },
  {
   "cell_type": "markdown",
   "metadata": {},
   "source": [
    "Resampling using SMOTE validates that being male is a risk factor for heart disease.  <br>  **The oversampling in the minority group makes the p value even smaller, compared to the original data.**  "
   ]
  },
  {
   "cell_type": "markdown",
   "metadata": {},
   "source": [
    "## A/B Testing on 'sex vs target' in elder people"
   ]
  },
  {
   "cell_type": "markdown",
   "metadata": {},
   "source": [
    "We further analyze male vs female in the elderly group (age >=55).  "
   ]
  },
  {
   "cell_type": "code",
   "execution_count": 32,
   "metadata": {},
   "outputs": [
    {
     "data": {
      "text/html": [
       "<div>\n",
       "<style scoped>\n",
       "    .dataframe tbody tr th:only-of-type {\n",
       "        vertical-align: middle;\n",
       "    }\n",
       "\n",
       "    .dataframe tbody tr th {\n",
       "        vertical-align: top;\n",
       "    }\n",
       "\n",
       "    .dataframe thead th {\n",
       "        text-align: right;\n",
       "    }\n",
       "</style>\n",
       "<table border=\"1\" class=\"dataframe\">\n",
       "  <thead>\n",
       "    <tr style=\"text-align: right;\">\n",
       "      <th>sex</th>\n",
       "      <th>0</th>\n",
       "      <th>1</th>\n",
       "    </tr>\n",
       "    <tr>\n",
       "      <th>target</th>\n",
       "      <th></th>\n",
       "      <th></th>\n",
       "    </tr>\n",
       "  </thead>\n",
       "  <tbody>\n",
       "    <tr>\n",
       "      <th>0</th>\n",
       "      <td>34</td>\n",
       "      <td>31</td>\n",
       "    </tr>\n",
       "    <tr>\n",
       "      <th>1</th>\n",
       "      <td>23</td>\n",
       "      <td>72</td>\n",
       "    </tr>\n",
       "  </tbody>\n",
       "</table>\n",
       "</div>"
      ],
      "text/plain": [
       "sex      0   1\n",
       "target        \n",
       "0       34  31\n",
       "1       23  72"
      ]
     },
     "metadata": {},
     "output_type": "display_data"
    }
   ],
   "source": [
    "## everyone who >= 55\n",
    "senior = df[df['age'] >= 55]\n",
    "sex_heart2= pd.crosstab(senior.target, senior.sex)\n",
    "display(sex_heart2)"
   ]
  },
  {
   "cell_type": "code",
   "execution_count": 33,
   "metadata": {
    "code_folding": [
     0
    ]
   },
   "outputs": [
    {
     "data": {
      "image/png": "[encoded data removed]",
      "text/plain": [
       "<Figure size 432x288 with 1 Axes>"
      ]
     },
     "metadata": {
      "needs_background": "light"
     },
     "output_type": "display_data"
    }
   ],
   "source": [
    "# Plot\n",
    "ax=sns.countplot(x=\"sex\", hue= \"target\", data=senior)\n",
    "ax.set_xticklabels(['Female', 'Male'])\n",
    "ax.get_legend().remove()\n",
    "plt.title('sex and heart disease in ppl >=55 yo')\n",
    "plt.show()"
   ]
  },
  {
   "cell_type": "code",
   "execution_count": 34,
   "metadata": {},
   "outputs": [
    {
     "name": "stdout",
     "output_type": "stream",
     "text": [
      "z test: z=   -3.64, p=0.00027\n"
     ]
    }
   ],
   "source": [
    "# Z-test\n",
    "count = sex_heart2.loc[1].to_numpy()\n",
    "nobs = sex_heart2.sum().to_numpy()\n",
    "z, pval = proportions_ztest(count, nobs, value=0, alternative='two-sided')\n",
    "print ('z test: z={z:8.2f}, p={p:.5f}'.format(z=z, p=pval))"
   ]
  },
  {
   "cell_type": "markdown",
   "metadata": {},
   "source": [
    "There are significant differences in the heart disease rates in senior male from senior female (p<0.05). "
   ]
  },
  {
   "cell_type": "markdown",
   "metadata": {},
   "source": [
    "## Logistic Regression"
   ]
  },
  {
   "cell_type": "markdown",
   "metadata": {},
   "source": [
    "Since the resampling does not change the conclusion for the A/B testing, the following analysis is performed on the original data. "
   ]
  },
  {
   "cell_type": "code",
   "execution_count": 35,
   "metadata": {
    "code_folding": []
   },
   "outputs": [],
   "source": [
    "# Logistic Regression\n",
    "# remove NaN and get all 0 an 1 on categorical variables\n",
    "df1 = df[~df.ca.isnull()]\n",
    "df1 = pd.get_dummies(df1)\n",
    "\n",
    "from sklearn.linear_model import LogisticRegression\n",
    "from sklearn.metrics import accuracy_score\n",
    "\n",
    "y = df1.target\n",
    "X = df1.drop('target', axis=1)\n",
    " \n",
    "clf = LogisticRegression(random_state=0, solver='lbfgs', max_iter=1000, multi_class='multinomial').fit(X, y)\n",
    " \n",
    "# Predict on training set\n",
    "pred_y = clf.predict(X)"
   ]
  },
  {
   "cell_type": "code",
   "execution_count": 36,
   "metadata": {},
   "outputs": [
    {
     "name": "stdout",
     "output_type": "stream",
     "text": [
      "Accuracy Score: 0.8647\n",
      "[0 1]\n"
     ]
    }
   ],
   "source": [
    "# How's the accuracy?\n",
    "print('Accuracy Score: {0:3.4f}'.format(accuracy_score(pred_y, y)))\n",
    "print(np.unique(pred_y))"
   ]
  },
  {
   "cell_type": "markdown",
   "metadata": {},
   "source": [
    "The logistic regression model has 86% accurate rate. The model predicts both positive and negative results.  No resampling is needed.  "
   ]
  },
  {
   "cell_type": "markdown",
   "metadata": {},
   "source": [
    "# Conclusion\n",
    "\n"
   ]
  },
  {
   "cell_type": "markdown",
   "metadata": {},
   "source": [
    "We found that sex, age, and chol are the risk factors for heart diseases.  Z-test shows that being a male is more likely to get heart disease (p<0.05).  Although the linear correlation does not exist between age and heart diseases (linear coeff = 0.28), A/B testing shows that people age 55 and above have more heart diseases than people under 55 (z-test, p<0.05).  We also found people have chol level 250 and above are more likely to have heart disease than people whose chol level is below 250 (z-test, p<0.05)\n"
   ]
  },
  {
   "cell_type": "code",
   "execution_count": null,
   "metadata": {},
   "outputs": [],
   "source": []
  }
 ],
 "metadata": {
  "kernelspec": {
   "display_name": "Python 3",
   "language": "python",
   "name": "python3"
  },
  "language_info": {
   "codemirror_mode": {
    "name": "ipython",
    "version": 3
   },
   "file_extension": ".py",
   "mimetype": "text/x-python",
   "name": "python",
   "nbconvert_exporter": "python",
   "pygments_lexer": "ipython3",
   "version": "3.7.3"
  },
  "toc": {
   "base_numbering": 1,
   "nav_menu": {},
   "number_sections": true,
   "sideBar": true,
   "skip_h1_title": false,
   "title_cell": "Table of Contents",
   "title_sidebar": "Contents",
   "toc_cell": true,
   "toc_position": {
    "height": "539.2px",
    "left": "1107.8px",
    "top": "180px",
    "width": "307.2px"
   },
   "toc_section_display": true,
   "toc_window_display": false
  }
 },
 "nbformat": 4,
 "nbformat_minor": 2
}
